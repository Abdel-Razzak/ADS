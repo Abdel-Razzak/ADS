{
 "cells": [
  {
   "cell_type": "markdown",
   "metadata": {
    "deletable": true,
    "editable": true
   },
   "source": [
    "# Fully Connected Feed-Forward Network\n",
    "\n",
    "In this notebook we will play with Feed-Forward FC-NN (Fully Connected Neural Network) for a *classification task*: Image Classification on MNIST Dataset\n",
    "\n",
    "**RECALL**\n",
    "\n",
    "In the FC-NN, the output of each layer is computed using the activations from the previous one, as follows:\n",
    "\n",
    "$$h_{i} = \\sigma(W_i h_{i-1} + b_i)$$\n",
    "\n",
    "where ${h}_i$ is the activation vector from the $i$-th layer (or the input data for $i=0$), ${W}_i$ and ${b}_i$ are  the weight matrix and the bias vector for the $i$-th layer, respectively. \n",
    "<br><rb>\n",
    "$\\sigma(\\cdot)$ is the activation function. In our example, we will use the *ReLU* activation function for the hidden layers and *softmax* for the last layer.\n",
    "\n",
    "To regularize the model, we will also insert a Dropout layer between consecutive hidden layers. \n",
    "\n",
    "Dropout works by “dropping out” some unit activations in a given layer, that is setting them to zero with a given probability.\n",
    "\n",
    "Our loss function will be the **categorical crossentropy**."
   ]
  },
  {
   "cell_type": "markdown",
   "metadata": {
    "deletable": true,
    "editable": true
   },
   "source": [
    "## Model definition\n",
    "Keras supports two different kind of models: the [Sequential](http://keras.io/models/#sequential) model and the [Graph](http://keras.io/models/#graph) model. The former is used to build linear stacks of layer (so each layer has one input and one output), and the latter supports any kind of connection graph.\n",
    "\n",
    "In our case we build a Sequential model with three [Dense](http://keras.io/layers/core/#dense) (aka fully connected) layers, with some [Dropout](http://keras.io/layers/core/#dropout). Notice that the output layer has the softmax activation function. \n",
    "\n",
    "The resulting model is actually a `function` of its own inputs implemented using the Keras backend. \n",
    "\n",
    "We apply the binary crossentropy loss and choose SGD as the optimizer. \n",
    "\n",
    "Please remind that Keras supports a variety of different [optimizers](http://keras.io/optimizers/) and [loss functions](http://keras.io/objectives/), which you may want to check out. "
   ]
  },
  {
   "cell_type": "code",
   "execution_count": 3,
   "metadata": {
    "collapsed": false,
    "deletable": true,
    "editable": true
   },
   "outputs": [],
   "source": [
    "from keras.models import Sequential\n",
    "from keras.layers.core import Dense, Dropout\n",
    "from keras.optimizers import SGD\n",
    "\n",
    "nb_classes = 10\n",
    "\n",
    "# FC@512+relu -> DropOut(0.2) -> FC@512+relu -> DropOut(0.2) -> FC@nb_classes+softmax\n",
    "# ... your Code Here"
   ]
  },
  {
   "cell_type": "markdown",
   "metadata": {
    "deletable": true,
    "editable": true
   },
   "source": [
    "## Data preparation (`keras.dataset`)\n",
    "\n",
    "We will train our model on the MNIST dataset, which consists of 60,000 28x28 grayscale images of the 10 digits, along with a test set of 10,000 images. \n",
    "\n",
    "![](imgs/mnist.png)\n",
    "\n",
    "Since this dataset is **provided** with Keras, we just ask the `keras.dataset` model for training and test data.\n",
    "\n",
    "We will:\n",
    "\n",
    "* download the data\n",
    "* reshape data to be in vectorial form (original data are images)\n",
    "* normalize between 0 and 1.\n",
    "\n",
    "The `binary_crossentropy` loss expects a **one-hot-vector** as input, therefore we apply the `to_categorical` function from `keras.utilis` to convert integer labels to **one-hot-vectors**."
   ]
  },
  {
   "cell_type": "code",
   "execution_count": 4,
   "metadata": {
    "collapsed": false,
    "deletable": true,
    "editable": true
   },
   "outputs": [],
   "source": [
    "from keras.datasets import mnist\n",
    "from keras.utils import np_utils\n",
    "\n",
    "(X_train, y_train), (X_test, y_test) = mnist.load_data()\n",
    "X_train = X_train.reshape(60000, 784)\n",
    "X_test = X_test.reshape(10000, 784)\n",
    "X_train = X_train.astype(\"float32\")\n",
    "X_test = X_test.astype(\"float32\")\n",
    "X_train /= 255\n",
    "X_test /= 255\n",
    "\n",
    "# convert class vectors to binary class matrices\n",
    "Y_train = np_utils.to_categorical(y_train, 10)\n",
    "Y_test = np_utils.to_categorical(y_test, 10)"
   ]
  },
  {
   "cell_type": "markdown",
   "metadata": {
    "deletable": true,
    "editable": true
   },
   "source": [
    "## Training\n",
    "Having defined and compiled the model, it can be trained using the `fit` function. We also specify a validation dataset to monitor validation loss and accuracy."
   ]
  },
  {
   "cell_type": "code",
   "execution_count": 5,
   "metadata": {
    "collapsed": false,
    "deletable": true,
    "editable": true,
    "scrolled": true
   },
   "outputs": [],
   "source": [
    "model = Sequential()\n",
    "model = Sequential()\n",
    "model.add(Dense(512, activation='relu', input_shape=(784,)))\n",
    "model.add(Dropout(0.2))\n",
    "model.add(Dense(512, activation='relu'))\n",
    "model.add(Dropout(0.2))\n",
    "model.add(Dense(10, activation='softmax'))\n",
    "\n",
    "model.compile(loss='categorical_crossentropy', optimizer=SGD(), \n",
    "              metrics=['accuracy'])"
   ]
  },
  {
   "cell_type": "code",
   "execution_count": 6,
   "metadata": {
    "collapsed": false
   },
   "outputs": [
    {
     "name": "stdout",
     "output_type": "stream",
     "text": [
      "Train on 60000 samples, validate on 10000 samples\n",
      "Epoch 1/100\n",
      "60000/60000 [==============================] - 19s - loss: 1.2077 - acc: 0.6894 - val_loss: 0.5419 - val_acc: 0.8708\n",
      "Epoch 2/100\n",
      "60000/60000 [==============================] - 18s - loss: 0.5322 - acc: 0.8518 - val_loss: 0.3778 - val_acc: 0.8990\n",
      "Epoch 3/100\n",
      "60000/60000 [==============================] - 18s - loss: 0.4265 - acc: 0.8766 - val_loss: 0.3239 - val_acc: 0.9120\n",
      "Epoch 4/100\n",
      "60000/60000 [==============================] - 18s - loss: 0.3773 - acc: 0.8912 - val_loss: 0.2950 - val_acc: 0.9168\n",
      "Epoch 5/100\n",
      "60000/60000 [==============================] - 18s - loss: 0.3438 - acc: 0.9006 - val_loss: 0.2716 - val_acc: 0.9232\n",
      "Epoch 6/100\n",
      "60000/60000 [==============================] - 18s - loss: 0.3187 - acc: 0.9070 - val_loss: 0.2550 - val_acc: 0.9274\n",
      "Epoch 7/100\n",
      "60000/60000 [==============================] - 18s - loss: 0.2994 - acc: 0.9140 - val_loss: 0.2396 - val_acc: 0.9328\n",
      "Epoch 8/100\n",
      "60000/60000 [==============================] - 18s - loss: 0.2844 - acc: 0.9180 - val_loss: 0.2281 - val_acc: 0.9353\n",
      "Epoch 9/100\n",
      "60000/60000 [==============================] - 19s - loss: 0.2672 - acc: 0.9226 - val_loss: 0.2164 - val_acc: 0.9390\n",
      "Epoch 10/100\n",
      "60000/60000 [==============================] - 19s - loss: 0.2544 - acc: 0.9264 - val_loss: 0.2072 - val_acc: 0.9416\n",
      "Epoch 11/100\n",
      "60000/60000 [==============================] - 19s - loss: 0.2437 - acc: 0.9290 - val_loss: 0.1977 - val_acc: 0.9437\n",
      "Epoch 12/100\n",
      "60000/60000 [==============================] - 18s - loss: 0.2329 - acc: 0.9321 - val_loss: 0.1894 - val_acc: 0.9450\n",
      "Epoch 13/100\n",
      "60000/60000 [==============================] - 18s - loss: 0.2236 - acc: 0.9363 - val_loss: 0.1828 - val_acc: 0.9459\n",
      "Epoch 14/100\n",
      "60000/60000 [==============================] - 17s - loss: 0.2152 - acc: 0.9378 - val_loss: 0.1758 - val_acc: 0.9484\n",
      "Epoch 15/100\n",
      "60000/60000 [==============================] - 18s - loss: 0.2057 - acc: 0.9413 - val_loss: 0.1696 - val_acc: 0.9498\n",
      "Epoch 16/100\n",
      "60000/60000 [==============================] - 19s - loss: 0.1993 - acc: 0.9430 - val_loss: 0.1637 - val_acc: 0.9514\n",
      "Epoch 17/100\n",
      "60000/60000 [==============================] - 17s - loss: 0.1929 - acc: 0.9448 - val_loss: 0.1589 - val_acc: 0.9537\n",
      "Epoch 18/100\n",
      "60000/60000 [==============================] - 18s - loss: 0.1865 - acc: 0.9461 - val_loss: 0.1536 - val_acc: 0.9547\n",
      "Epoch 19/100\n",
      "60000/60000 [==============================] - 17s - loss: 0.1816 - acc: 0.9468 - val_loss: 0.1505 - val_acc: 0.9564\n",
      "Epoch 20/100\n",
      "60000/60000 [==============================] - 17s - loss: 0.1757 - acc: 0.9498 - val_loss: 0.1456 - val_acc: 0.9566\n",
      "Epoch 21/100\n",
      "60000/60000 [==============================] - 19s - loss: 0.1706 - acc: 0.9506 - val_loss: 0.1411 - val_acc: 0.9581\n",
      "Epoch 22/100\n",
      "60000/60000 [==============================] - 17s - loss: 0.1659 - acc: 0.9525 - val_loss: 0.1379 - val_acc: 0.9594\n",
      "Epoch 23/100\n",
      "60000/60000 [==============================] - 16s - loss: 0.1615 - acc: 0.9534 - val_loss: 0.1348 - val_acc: 0.9597\n",
      "Epoch 24/100\n",
      "60000/60000 [==============================] - 17s - loss: 0.1577 - acc: 0.9539 - val_loss: 0.1320 - val_acc: 0.9602\n",
      "Epoch 25/100\n",
      "60000/60000 [==============================] - 18s - loss: 0.1528 - acc: 0.9560 - val_loss: 0.1279 - val_acc: 0.9621\n",
      "Epoch 26/100\n",
      "60000/60000 [==============================] - 19s - loss: 0.1495 - acc: 0.9563 - val_loss: 0.1260 - val_acc: 0.9616\n",
      "Epoch 27/100\n",
      "60000/60000 [==============================] - 19s - loss: 0.1458 - acc: 0.9583 - val_loss: 0.1233 - val_acc: 0.9632\n",
      "Epoch 28/100\n",
      "60000/60000 [==============================] - 19s - loss: 0.1432 - acc: 0.9574 - val_loss: 0.1206 - val_acc: 0.9642\n",
      "Epoch 29/100\n",
      "60000/60000 [==============================] - 19s - loss: 0.1403 - acc: 0.9597 - val_loss: 0.1182 - val_acc: 0.9648\n",
      "Epoch 30/100\n",
      "60000/60000 [==============================] - 19s - loss: 0.1361 - acc: 0.9612 - val_loss: 0.1159 - val_acc: 0.9660\n",
      "Epoch 31/100\n",
      "60000/60000 [==============================] - 19s - loss: 0.1330 - acc: 0.9619 - val_loss: 0.1135 - val_acc: 0.9655\n",
      "Epoch 32/100\n",
      "60000/60000 [==============================] - 19s - loss: 0.1306 - acc: 0.9620 - val_loss: 0.1117 - val_acc: 0.9668\n",
      "Epoch 33/100\n",
      "60000/60000 [==============================] - 19s - loss: 0.1288 - acc: 0.9627 - val_loss: 0.1098 - val_acc: 0.9669\n",
      "Epoch 34/100\n",
      "60000/60000 [==============================] - 18s - loss: 0.1241 - acc: 0.9643 - val_loss: 0.1077 - val_acc: 0.9669\n",
      "Epoch 35/100\n",
      "60000/60000 [==============================] - 14s - loss: 0.1226 - acc: 0.9639 - val_loss: 0.1063 - val_acc: 0.9679\n",
      "Epoch 36/100\n",
      "60000/60000 [==============================] - 14s - loss: 0.1208 - acc: 0.9655 - val_loss: 0.1040 - val_acc: 0.9687\n",
      "Epoch 37/100\n",
      "60000/60000 [==============================] - 13s - loss: 0.1191 - acc: 0.9648 - val_loss: 0.1025 - val_acc: 0.9687\n",
      "Epoch 38/100\n",
      "60000/60000 [==============================] - 13s - loss: 0.1153 - acc: 0.9661 - val_loss: 0.1013 - val_acc: 0.9696\n",
      "Epoch 39/100\n",
      "60000/60000 [==============================] - 12s - loss: 0.1126 - acc: 0.9670 - val_loss: 0.1000 - val_acc: 0.9694\n",
      "Epoch 40/100\n",
      "60000/60000 [==============================] - 12s - loss: 0.1125 - acc: 0.9671 - val_loss: 0.0989 - val_acc: 0.9693\n",
      "Epoch 41/100\n",
      "60000/60000 [==============================] - 13s - loss: 0.1096 - acc: 0.9685 - val_loss: 0.0974 - val_acc: 0.9709\n",
      "Epoch 42/100\n",
      "60000/60000 [==============================] - 12s - loss: 0.1086 - acc: 0.9688 - val_loss: 0.0962 - val_acc: 0.9704\n",
      "Epoch 43/100\n",
      "60000/60000 [==============================] - 12s - loss: 0.1063 - acc: 0.9680 - val_loss: 0.0942 - val_acc: 0.9714\n",
      "Epoch 44/100\n",
      "60000/60000 [==============================] - 12s - loss: 0.1034 - acc: 0.9699 - val_loss: 0.0932 - val_acc: 0.9715\n",
      "Epoch 45/100\n",
      "60000/60000 [==============================] - 13s - loss: 0.1021 - acc: 0.9703 - val_loss: 0.0921 - val_acc: 0.9712\n",
      "Epoch 46/100\n",
      "60000/60000 [==============================] - 13s - loss: 0.1001 - acc: 0.9697 - val_loss: 0.0909 - val_acc: 0.9722\n",
      "Epoch 47/100\n",
      "60000/60000 [==============================] - 12s - loss: 0.0980 - acc: 0.9715 - val_loss: 0.0899 - val_acc: 0.9721\n",
      "Epoch 48/100\n",
      "60000/60000 [==============================] - 12s - loss: 0.0974 - acc: 0.9721 - val_loss: 0.0888 - val_acc: 0.9715\n",
      "Epoch 49/100\n",
      "60000/60000 [==============================] - 12s - loss: 0.0960 - acc: 0.9720 - val_loss: 0.0884 - val_acc: 0.9728\n",
      "Epoch 50/100\n",
      "60000/60000 [==============================] - 12s - loss: 0.0943 - acc: 0.9719 - val_loss: 0.0871 - val_acc: 0.9732\n",
      "Epoch 51/100\n",
      "60000/60000 [==============================] - 12s - loss: 0.0933 - acc: 0.9732 - val_loss: 0.0856 - val_acc: 0.9727\n",
      "Epoch 52/100\n",
      "60000/60000 [==============================] - 12s - loss: 0.0915 - acc: 0.9732 - val_loss: 0.0848 - val_acc: 0.9734\n",
      "Epoch 53/100\n",
      "60000/60000 [==============================] - 12s - loss: 0.0907 - acc: 0.9734 - val_loss: 0.0840 - val_acc: 0.9734\n",
      "Epoch 54/100\n",
      "60000/60000 [==============================] - 12s - loss: 0.0888 - acc: 0.9737 - val_loss: 0.0831 - val_acc: 0.9744\n",
      "Epoch 55/100\n",
      "60000/60000 [==============================] - 12s - loss: 0.0865 - acc: 0.9751 - val_loss: 0.0826 - val_acc: 0.9740\n",
      "Epoch 56/100\n",
      "60000/60000 [==============================] - 12s - loss: 0.0858 - acc: 0.9750 - val_loss: 0.0812 - val_acc: 0.9748\n",
      "Epoch 57/100\n",
      "60000/60000 [==============================] - 12s - loss: 0.0843 - acc: 0.9752 - val_loss: 0.0807 - val_acc: 0.9753\n",
      "Epoch 58/100\n",
      "60000/60000 [==============================] - 12s - loss: 0.0828 - acc: 0.9753 - val_loss: 0.0801 - val_acc: 0.9749\n",
      "Epoch 59/100\n",
      "60000/60000 [==============================] - 12s - loss: 0.0814 - acc: 0.9765 - val_loss: 0.0793 - val_acc: 0.9752\n",
      "Epoch 60/100\n",
      "60000/60000 [==============================] - 12s - loss: 0.0813 - acc: 0.9761 - val_loss: 0.0788 - val_acc: 0.9750\n",
      "Epoch 61/100\n",
      "60000/60000 [==============================] - 12s - loss: 0.0797 - acc: 0.9768 - val_loss: 0.0783 - val_acc: 0.9752\n",
      "Epoch 62/100\n",
      "60000/60000 [==============================] - 12s - loss: 0.0771 - acc: 0.9775 - val_loss: 0.0775 - val_acc: 0.9756\n",
      "Epoch 63/100\n",
      "60000/60000 [==============================] - 12s - loss: 0.0788 - acc: 0.9772 - val_loss: 0.0769 - val_acc: 0.9753\n",
      "Epoch 64/100\n",
      "60000/60000 [==============================] - 12s - loss: 0.0767 - acc: 0.9777 - val_loss: 0.0762 - val_acc: 0.9755\n",
      "Epoch 65/100\n",
      "60000/60000 [==============================] - 12s - loss: 0.0752 - acc: 0.9781 - val_loss: 0.0756 - val_acc: 0.9757\n",
      "Epoch 66/100\n",
      "60000/60000 [==============================] - 12s - loss: 0.0744 - acc: 0.9780 - val_loss: 0.0753 - val_acc: 0.9762\n",
      "Epoch 67/100\n",
      "60000/60000 [==============================] - 12s - loss: 0.0735 - acc: 0.9781 - val_loss: 0.0746 - val_acc: 0.9766\n",
      "Epoch 68/100\n",
      "60000/60000 [==============================] - 12s - loss: 0.0730 - acc: 0.9787 - val_loss: 0.0739 - val_acc: 0.9767\n",
      "Epoch 69/100\n",
      "60000/60000 [==============================] - 12s - loss: 0.0704 - acc: 0.9794 - val_loss: 0.0739 - val_acc: 0.9767\n",
      "Epoch 70/100\n",
      "60000/60000 [==============================] - 12s - loss: 0.0712 - acc: 0.9785 - val_loss: 0.0729 - val_acc: 0.9772\n",
      "Epoch 71/100\n",
      "60000/60000 [==============================] - 12s - loss: 0.0697 - acc: 0.9798 - val_loss: 0.0727 - val_acc: 0.9773\n",
      "Epoch 72/100\n",
      "60000/60000 [==============================] - 12s - loss: 0.0680 - acc: 0.9802 - val_loss: 0.0723 - val_acc: 0.9767\n",
      "Epoch 73/100\n",
      "60000/60000 [==============================] - 12s - loss: 0.0688 - acc: 0.9796 - val_loss: 0.0720 - val_acc: 0.9772\n",
      "Epoch 74/100\n",
      "60000/60000 [==============================] - 13s - loss: 0.0682 - acc: 0.9799 - val_loss: 0.0712 - val_acc: 0.9774\n",
      "Epoch 75/100\n",
      "60000/60000 [==============================] - 14s - loss: 0.0668 - acc: 0.9809 - val_loss: 0.0712 - val_acc: 0.9774\n",
      "Epoch 76/100\n",
      "60000/60000 [==============================] - 15s - loss: 0.0666 - acc: 0.9807 - val_loss: 0.0708 - val_acc: 0.9775\n",
      "Epoch 77/100\n",
      "60000/60000 [==============================] - 12s - loss: 0.0632 - acc: 0.9819 - val_loss: 0.0706 - val_acc: 0.9776\n",
      "Epoch 78/100\n",
      "60000/60000 [==============================] - 12s - loss: 0.0638 - acc: 0.9808 - val_loss: 0.0696 - val_acc: 0.9780\n",
      "Epoch 79/100\n",
      "60000/60000 [==============================] - 12s - loss: 0.0632 - acc: 0.9816 - val_loss: 0.0695 - val_acc: 0.9779\n",
      "Epoch 80/100\n",
      "60000/60000 [==============================] - 12s - loss: 0.0639 - acc: 0.9808 - val_loss: 0.0692 - val_acc: 0.9776\n",
      "Epoch 81/100\n",
      "60000/60000 [==============================] - 12s - loss: 0.0617 - acc: 0.9815 - val_loss: 0.0685 - val_acc: 0.9783\n",
      "Epoch 82/100\n",
      "60000/60000 [==============================] - 12s - loss: 0.0605 - acc: 0.9819 - val_loss: 0.0685 - val_acc: 0.9781\n",
      "Epoch 83/100\n",
      "60000/60000 [==============================] - 12s - loss: 0.0612 - acc: 0.9823 - val_loss: 0.0676 - val_acc: 0.9782\n",
      "Epoch 84/100\n",
      "60000/60000 [==============================] - 12s - loss: 0.0598 - acc: 0.9823 - val_loss: 0.0674 - val_acc: 0.9781\n",
      "Epoch 85/100\n",
      "60000/60000 [==============================] - 12s - loss: 0.0574 - acc: 0.9831 - val_loss: 0.0672 - val_acc: 0.9786\n",
      "Epoch 86/100\n",
      "60000/60000 [==============================] - 12s - loss: 0.0583 - acc: 0.9826 - val_loss: 0.0668 - val_acc: 0.9784\n",
      "Epoch 87/100\n",
      "60000/60000 [==============================] - 12s - loss: 0.0576 - acc: 0.9824 - val_loss: 0.0674 - val_acc: 0.9787\n",
      "Epoch 88/100\n",
      "60000/60000 [==============================] - 12s - loss: 0.0566 - acc: 0.9833 - val_loss: 0.0664 - val_acc: 0.9783\n",
      "Epoch 89/100\n",
      "60000/60000 [==============================] - 12s - loss: 0.0561 - acc: 0.9834 - val_loss: 0.0659 - val_acc: 0.9785\n",
      "Epoch 90/100\n",
      "60000/60000 [==============================] - 12s - loss: 0.0558 - acc: 0.9839 - val_loss: 0.0662 - val_acc: 0.9789\n",
      "Epoch 91/100\n",
      "60000/60000 [==============================] - 12s - loss: 0.0557 - acc: 0.9837 - val_loss: 0.0652 - val_acc: 0.9791\n",
      "Epoch 92/100\n",
      "60000/60000 [==============================] - 12s - loss: 0.0539 - acc: 0.9842 - val_loss: 0.0648 - val_acc: 0.9787\n",
      "Epoch 93/100\n",
      "60000/60000 [==============================] - 12s - loss: 0.0537 - acc: 0.9842 - val_loss: 0.0647 - val_acc: 0.9794\n",
      "Epoch 94/100\n",
      "60000/60000 [==============================] - 12s - loss: 0.0546 - acc: 0.9837 - val_loss: 0.0645 - val_acc: 0.9791\n",
      "Epoch 95/100\n",
      "60000/60000 [==============================] - 12s - loss: 0.0543 - acc: 0.9838 - val_loss: 0.0642 - val_acc: 0.9794\n",
      "Epoch 96/100\n",
      "60000/60000 [==============================] - 12s - loss: 0.0531 - acc: 0.9843 - val_loss: 0.0638 - val_acc: 0.9794\n",
      "Epoch 97/100\n",
      "60000/60000 [==============================] - 12s - loss: 0.0518 - acc: 0.9849 - val_loss: 0.0639 - val_acc: 0.9790\n",
      "Epoch 98/100\n",
      "60000/60000 [==============================] - 12s - loss: 0.0496 - acc: 0.9857 - val_loss: 0.0632 - val_acc: 0.9796\n",
      "Epoch 99/100\n",
      "60000/60000 [==============================] - 12s - loss: 0.0496 - acc: 0.9852 - val_loss: 0.0633 - val_acc: 0.9795\n",
      "Epoch 100/100\n",
      "60000/60000 [==============================] - 12s - loss: 0.0503 - acc: 0.9850 - val_loss: 0.0631 - val_acc: 0.9798\n"
     ]
    }
   ],
   "source": [
    "network_history = model.fit(X_train, Y_train, batch_size=128, \n",
    "                            epochs=100, verbose=1, validation_data=(X_test, Y_test))"
   ]
  },
  {
   "cell_type": "markdown",
   "metadata": {
    "deletable": true,
    "editable": true
   },
   "source": [
    "### Plotting Network Performance Trend\n",
    "The return value of the `fit` function is a `keras.callbacks.History` object which contains the entire history of training/validation loss and accuracy, for each epoch. We can therefore plot the behaviour of loss and accuracy during the training phase."
   ]
  },
  {
   "cell_type": "code",
   "execution_count": null,
   "metadata": {
    "collapsed": true
   },
   "outputs": [],
   "source": []
  },
  {
   "cell_type": "code",
   "execution_count": 7,
   "metadata": {
    "collapsed": false,
    "deletable": true,
    "editable": true
   },
   "outputs": [
    {
     "data": {
      "text/plain": [
       "<matplotlib.legend.Legend at 0x215616812e8>"
      ]
     },
     "execution_count": 7,
     "metadata": {},
     "output_type": "execute_result"
    },
    {
     "data": {
      "image/png": "[encoded data removed]",
      "text/plain": [
       "<matplotlib.figure.Figure at 0x215543a96d8>"
      ]
     },
     "metadata": {},
     "output_type": "display_data"
    },
    {
     "data": {
      "image/png": "[encoded data removed]",
      "text/plain": [
       "<matplotlib.figure.Figure at 0x21561635438>"
      ]
     },
     "metadata": {},
     "output_type": "display_data"
    }
   ],
   "source": [
    "import matplotlib.pyplot as plt\n",
    "%matplotlib inline\n",
    "\n",
    "plt.figure()\n",
    "plt.xlabel('Epochs')\n",
    "plt.ylabel('Loss')\n",
    "plt.plot(network_history.history['loss'])\n",
    "plt.plot(network_history.history['val_loss'])\n",
    "plt.legend(['Training', 'Validation'])\n",
    "\n",
    "plt.figure()\n",
    "plt.xlabel('Epochs')\n",
    "plt.ylabel('Accuracy')\n",
    "plt.plot(network_history.history['acc'])\n",
    "plt.plot(network_history.history['val_acc'])\n",
    "plt.legend(['Training', 'Validation'], loc='lower right')"
   ]
  },
  {
   "cell_type": "markdown",
   "metadata": {
    "deletable": true,
    "editable": true
   },
   "source": [
    "After `100` epochs, we get a `98.8%` validation accuracy. \n",
    "\n",
    "If you continue training, at some point the validation loss will start to increase: that is when the model starts to **overfit**. \n",
    "\n",
    "It is always necessary to monitor training and validation loss during the training of any kind of Neural Network, either to detect overfitting or to evaluate the behaviour of the model **(any clue on how to do it??)**"
   ]
  },
  {
   "cell_type": "code",
   "execution_count": null,
   "metadata": {
    "collapsed": true
   },
   "outputs": [],
   "source": []
  }
 ],
 "metadata": {
  "anaconda-cloud": {},
  "kernelspec": {
   "display_name": "Python [default]",
   "language": "python",
   "name": "python3"
  },
  "language_info": {
   "codemirror_mode": {
    "name": "ipython",
    "version": 3
   },
   "file_extension": ".py",
   "mimetype": "text/x-python",
   "name": "python",
   "nbconvert_exporter": "python",
   "pygments_lexer": "ipython3",
   "version": "3.5.2"
  }
 },
 "nbformat": 4,
 "nbformat_minor": 0
}
