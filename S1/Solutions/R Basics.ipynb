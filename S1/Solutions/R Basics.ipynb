{
 "cells": [
  {
   "cell_type": "markdown",
   "metadata": {},
   "source": [
    "## R Basics Exercise\n",
    "We will test you on a few topics:\n",
    "* Basic Data Types\n",
    "* Basic Arithmetic\n",
    "* Vector\n",
    "* Vector Operations\n",
    "* Comparison operators\n",
    "* Vector Selection and Indexing\n",
    "\n",
    "The exercises below should be straightforward if you've reviewed the lecture, don't expect something very challenging yet, this is more of a review to make sure you've understood everything so far! Later on exercises/projects will be more challenging (and a lot more fun!)"
   ]
  },
  {
   "cell_type": "markdown",
   "metadata": {},
   "source": [
    "### Solve the following problems using R\n",
    "What is two to the power of five?"
   ]
  },
  {
   "cell_type": "code",
   "execution_count": 1,
   "metadata": {
    "collapsed": false
   },
   "outputs": [
    {
     "data": {
      "text/html": [
       "32"
      ],
      "text/latex": [
       "32"
      ],
      "text/markdown": [
       "32"
      ],
      "text/plain": [
       "[1] 32"
      ]
     },
     "metadata": {},
     "output_type": "display_data"
    }
   ],
   "source": [
    "2^5"
   ]
  },
  {
   "cell_type": "markdown",
   "metadata": {},
   "source": [
    "Create a vector called stock.prices with the following data points: 23,27,23,21,34"
   ]
  },
  {
   "cell_type": "code",
   "execution_count": 3,
   "metadata": {
    "collapsed": false
   },
   "outputs": [
    {
     "data": {
      "text/html": [
       "<ol class=list-inline>\n",
       "\t<li>23</li>\n",
       "\t<li>27</li>\n",
       "\t<li>23</li>\n",
       "\t<li>21</li>\n",
       "\t<li>34</li>\n",
       "</ol>\n"
      ],
      "text/latex": [
       "\\begin{enumerate*}\n",
       "\\item 23\n",
       "\\item 27\n",
       "\\item 23\n",
       "\\item 21\n",
       "\\item 34\n",
       "\\end{enumerate*}\n"
      ],
      "text/markdown": [
       "1. 23\n",
       "2. 27\n",
       "3. 23\n",
       "4. 21\n",
       "5. 34\n",
       "\n",
       "\n"
      ],
      "text/plain": [
       "[1] 23 27 23 21 34"
      ]
     },
     "metadata": {},
     "output_type": "display_data"
    }
   ],
   "source": [
    "stock.prices <- c(23,27,23,21,34)\n",
    "stock.prices"
   ]
  },
  {
   "cell_type": "markdown",
   "metadata": {},
   "source": [
    "Assign names to the price data points relating to the day of the week, starting with Mon, Tue, Wed, etc..."
   ]
  },
  {
   "cell_type": "code",
   "execution_count": 4,
   "metadata": {
    "collapsed": false
   },
   "outputs": [
    {
     "data": {
      "text/html": [
       "<dl class=dl-horizontal>\n",
       "\t<dt>Mon</dt>\n",
       "\t\t<dd>23</dd>\n",
       "\t<dt>Tues</dt>\n",
       "\t\t<dd>27</dd>\n",
       "\t<dt>Wed</dt>\n",
       "\t\t<dd>23</dd>\n",
       "\t<dt>Thu</dt>\n",
       "\t\t<dd>21</dd>\n",
       "\t<dt>Fri</dt>\n",
       "\t\t<dd>34</dd>\n",
       "</dl>\n"
      ],
      "text/latex": [
       "\\begin{description*}\n",
       "\\item[Mon] 23\n",
       "\\item[Tues] 27\n",
       "\\item[Wed] 23\n",
       "\\item[Thu] 21\n",
       "\\item[Fri] 34\n",
       "\\end{description*}\n"
      ],
      "text/markdown": [
       "Mon\n",
       ":   23Tues\n",
       ":   27Wed\n",
       ":   23Thu\n",
       ":   21Fri\n",
       ":   34\n",
       "\n"
      ],
      "text/plain": [
       " Mon Tues  Wed  Thu  Fri \n",
       "  23   27   23   21   34 "
      ]
     },
     "metadata": {},
     "output_type": "display_data"
    }
   ],
   "source": [
    "names(stock.prices) <- c('Mon','Tues','Wed','Thu','Fri')\n",
    "stock.prices"
   ]
  },
  {
   "cell_type": "markdown",
   "metadata": {},
   "source": [
    "What was the average (mean) stock price for the week? (You may need to reference a built-in function)"
   ]
  },
  {
   "cell_type": "code",
   "execution_count": 5,
   "metadata": {
    "collapsed": false
   },
   "outputs": [
    {
     "data": {
      "text/html": [
       "25.6"
      ],
      "text/latex": [
       "25.6"
      ],
      "text/markdown": [
       "25.6"
      ],
      "text/plain": [
       "[1] 25.6"
      ]
     },
     "metadata": {},
     "output_type": "display_data"
    }
   ],
   "source": [
    "mean(stock.prices)"
   ]
  },
  {
   "cell_type": "markdown",
   "metadata": {},
   "source": [
    "Create a vector called over.23 consisting of logicals that correspond to the days where the stock price was more than $23"
   ]
  },
  {
   "cell_type": "code",
   "execution_count": 6,
   "metadata": {
    "collapsed": true
   },
   "outputs": [],
   "source": [
    "over.23 <- stock.prices>23"
   ]
  },
  {
   "cell_type": "markdown",
   "metadata": {},
   "source": [
    "Use the over.23 vector to filter out the stock.prices vector and only return the day and prices where the price was over $23"
   ]
  },
  {
   "cell_type": "code",
   "execution_count": 7,
   "metadata": {
    "collapsed": false
   },
   "outputs": [
    {
     "data": {
      "text/html": [
       "<dl class=dl-horizontal>\n",
       "\t<dt>Tues</dt>\n",
       "\t\t<dd>27</dd>\n",
       "\t<dt>Fri</dt>\n",
       "\t\t<dd>34</dd>\n",
       "</dl>\n"
      ],
      "text/latex": [
       "\\begin{description*}\n",
       "\\item[Tues] 27\n",
       "\\item[Fri] 34\n",
       "\\end{description*}\n"
      ],
      "text/markdown": [
       "Tues\n",
       ":   27Fri\n",
       ":   34\n",
       "\n"
      ],
      "text/plain": [
       "Tues  Fri \n",
       "  27   34 "
      ]
     },
     "metadata": {},
     "output_type": "display_data"
    }
   ],
   "source": [
    "stock.prices[over.23]"
   ]
  },
  {
   "cell_type": "markdown",
   "metadata": {},
   "source": [
    "Use a built-in function to find the day the price was the highest"
   ]
  },
  {
   "cell_type": "code",
   "execution_count": 8,
   "metadata": {
    "collapsed": false
   },
   "outputs": [
    {
     "data": {
      "text/html": [
       "<dl class=dl-horizontal>\n",
       "\t<dt>Mon</dt>\n",
       "\t\t<dd>FALSE</dd>\n",
       "\t<dt>Tues</dt>\n",
       "\t\t<dd>FALSE</dd>\n",
       "\t<dt>Wed</dt>\n",
       "\t\t<dd>FALSE</dd>\n",
       "\t<dt>Thu</dt>\n",
       "\t\t<dd>FALSE</dd>\n",
       "\t<dt>Fri</dt>\n",
       "\t\t<dd>TRUE</dd>\n",
       "</dl>\n"
      ],
      "text/latex": [
       "\\begin{description*}\n",
       "\\item[Mon] FALSE\n",
       "\\item[Tues] FALSE\n",
       "\\item[Wed] FALSE\n",
       "\\item[Thu] FALSE\n",
       "\\item[Fri] TRUE\n",
       "\\end{description*}\n"
      ],
      "text/markdown": [
       "Mon\n",
       ":   FALSETues\n",
       ":   FALSEWed\n",
       ":   FALSEThu\n",
       ":   FALSEFri\n",
       ":   TRUE\n",
       "\n"
      ],
      "text/plain": [
       "  Mon  Tues   Wed   Thu   Fri \n",
       "FALSE FALSE FALSE FALSE  TRUE "
      ]
     },
     "metadata": {},
     "output_type": "display_data"
    }
   ],
   "source": [
    "max.price <- stock.prices == max(stock.prices)\n",
    "max.price"
   ]
  },
  {
   "cell_type": "markdown",
   "metadata": {},
   "source": [
    "Okay that's it for the exercise on the basics! Great job!"
   ]
  },
  {
   "cell_type": "code",
   "execution_count": null,
   "metadata": {
    "collapsed": true
   },
   "outputs": [],
   "source": []
  }
 ],
 "metadata": {
  "kernelspec": {
   "display_name": "R",
   "language": "R",
   "name": "ir"
  },
  "language_info": {
   "codemirror_mode": "r",
   "file_extension": ".r",
   "mimetype": "text/x-r-source",
   "name": "R",
   "pygments_lexer": "r",
   "version": "3.3.2"
  }
 },
 "nbformat": 4,
 "nbformat_minor": 2
}
