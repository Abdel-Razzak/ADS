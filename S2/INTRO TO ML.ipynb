{
 "cells": [
  {
   "cell_type": "markdown",
   "metadata": {},
   "source": [
    "# Introduction to machine learning\n",
    "We will be using Introduction to Statistical Learning by Gareth James as a companion book.\n",
    "\n",
    "Students who want the mathematical theory should do the reading.\n",
    "Read Chapters 1 & 2 to gain a background understanding before continuing to the Machine Learning Lectures."
   ]
  },
  {
   "cell_type": "markdown",
   "metadata": {},
   "source": [
    "## What is Machine Learning?\n",
    "* Machine learning is a method of data analysis that automates analytical model building.\n",
    "* Using algorithms that iteratively learn from data, machine learning allows computers to find hidden insights without being explicitly programmed where to look."
   ]
  },
  {
   "cell_type": "markdown",
   "metadata": {},
   "source": [
    "## What is it used for?\n",
    "* Fraud detection.\n",
    "*  Web search results.\n",
    "* Real-time ads on web pages\n",
    "* Credit scoring and next-best offers.\n",
    "* Prediction of equipment failures.\n",
    "* New pricing models.\n",
    "* Network intrusion detection.Fraud detection.\n",
    "*  Web search results.\n",
    "* Real-time ads on web pages\n",
    "* Credit scoring and next-best offers.\n",
    "* Prediction of equipment failures.\n",
    "* New pricing models.\n",
    "* Network intrusion detection."
   ]
  },
  {
   "cell_type": "markdown",
   "metadata": {},
   "source": [
    "## Machine learning process\n",
    "![machinelearning process](images/mlprocess.PNG)\n"
   ]
  },
  {
   "cell_type": "markdown",
   "metadata": {},
   "source": [
    "## Supervised Learning\n",
    "* Supervised learning algorithms are trained usinglabeled examples, such as an **input where the desired output is known.**\n",
    "* For example, a piece of equipment could have data points labeled either “F” (failed) or “R” (runs).\n",
    "* **The learning algorithm receives a set of inputs along with the corresponding correct outputs, and the algorithm learns by comparing its actual output with correct outputs to find errors.**\n",
    "* It then modifies the model accordingly.\n",
    "* Through methods like **classification, regression, prediction and gradient boosting, supervised learning uses patterns to predict the values of the label on additional unlabeled data.**\n",
    "* **Supervised learning is commonly used in applications where historical data predicts likely future events.**\n",
    "* For example, it can anticipate when **credit card transactions are likely to be fraudulent** or **which insurance customer is likely to file a claim.**\n",
    "* Or it can attempt to **predict the price of a house based on different features for houses for which we have historical price data.**"
   ]
  },
  {
   "cell_type": "markdown",
   "metadata": {},
   "source": [
    "## Unsupervised Learning\n",
    "* Unsupervised learning is used against data** that has no historical labels.**\n",
    "* The system is not told the \"right answer.\" The algorithm must figure out what is being shown.\n",
    "* **The goal is to explore the data and find some structure within.**\n",
    "* **Or it can find the main attributes that separate customer segments from each other.**\n",
    "* Popular techniques include **self-organizing maps**, **nearestneighbor mapping**, **k-means clustering and singular value decomposition**.\n",
    "* These algorithms are also used to segment **text topics,recommend items and identify data outliers**."
   ]
  },
  {
   "cell_type": "markdown",
   "metadata": {},
   "source": [
    "## Reinforcement Learning\n",
    "* Reinforcement learning is often used for robotics, gaming and navigation.\n",
    "* With reinforcement learning, **the algorithm discovers through trial and error which actions yield the greatest rewards.**\n",
    "* This type of learning has three primary components: **the agent (the learner or decision maker)**, **the environment (everything the agent interacts with)** and **actions (what theagent can do).**\n",
    "* The objective is for the agent to choose actions that maximize the expected reward over a given amount oftime.\n",
    "* The agent will reach the goal much faster by following agood policy.\n",
    "* So the goal in reinforcement learning is to learn the best policy."
   ]
  },
  {
   "cell_type": "code",
   "execution_count": null,
   "metadata": {
    "collapsed": true
   },
   "outputs": [],
   "source": []
  }
 ],
 "metadata": {
  "kernelspec": {
   "display_name": "R",
   "language": "R",
   "name": "ir"
  },
  "language_info": {
   "codemirror_mode": "r",
   "file_extension": ".r",
   "mimetype": "text/x-r-source",
   "name": "R",
   "pygments_lexer": "r",
   "version": "3.3.2"
  }
 },
 "nbformat": 4,
 "nbformat_minor": 2
}
