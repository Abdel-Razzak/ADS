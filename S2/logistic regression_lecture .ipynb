{
 "cells": [
  {
   "cell_type": "markdown",
   "metadata": {},
   "source": [
    "# Introduction to Logistic Regression (Lecture)\n",
    "\n",
    "We want to learn about Logistic Regression as a method for Classification.\n",
    "\n",
    "* Some examples of classification problems:\n",
    "    * Spam versus “Ham” emails\n",
    "    * Loan Default (yes/no)\n",
    "    * Disease Diagnosis\n",
    "* Above were all examples of Binary Classification"
   ]
  },
  {
   "cell_type": "markdown",
   "metadata": {},
   "source": [
    "**So far we’ve only seen regression problems where we try to predict a continuous value.**\n",
    "\n",
    "* Although the name may be confusing at first, logistic regression allows us to solve classification problems, where we are trying to predict discrete categories.\n",
    "* The convention for binary classification is to have two classes 0 and 1."
   ]
  },
  {
   "cell_type": "markdown",
   "metadata": {},
   "source": [
    "** We can’t use a normal linear regression model on binary groups. It won’t lead to a good fit:**  "
   ]
  },
  {
   "cell_type": "markdown",
   "metadata": {},
   "source": [
    "![logistic regression](images/logreg1.PNG \"Classification using the Default data.\")"
   ]
  },
  {
   "cell_type": "markdown",
   "metadata": {},
   "source": [
    "Figure 1 presents the Classification model used in the Default data. (figure 1 is taken from chapter 4: An Introduction to\n",
    "Statistical Learning)\n",
    "\n",
    "* Left: Estimated probability of default using linear regression. Some estimated probabilities are negative! The orange ticks indicate the 0/1 values coded for default(No or Yes). \n",
    "\n",
    "* Right: Instead we can transform our linear regression to a logistic regression curve using logistic regression. All probabilities lie between 0 and 1."
   ]
  },
  {
   "cell_type": "markdown",
   "metadata": {},
   "source": [
    "**The Sigmoid (aka Logistic) Function takes in any value and outputs it to be between 0 and 1.**\n",
    "![sigmoid function](images/sig.PNG)\n"
   ]
  },
  {
   "cell_type": "markdown",
   "metadata": {},
   "source": [
    "This means we can take our Linear Regression Solution and place it into the Sigmoid Function\n",
    "\n",
    "![siglin](images/siglin.PNG)\n",
    "\n",
    "**This results in a probability from 0 to 1 of belonging in the 1 class.We use the logistic function to output a value ranging from 0 to 1. Based off of this probability we assign a class.**\n",
    "\n",
    "![logm](images/logm.PNG)\n"
   ]
  },
  {
   "cell_type": "markdown",
   "metadata": {},
   "source": [
    "## Model Evaluation\n",
    "* After you train a logistic regression model on some training data, you will evaluate your model’s performance on some test data.\n",
    "* You can use a confusion matrix to evaluate classification models.\n",
    "* We can use a confusion matrix to evaluate our model.\n",
    "* Example: Disease Diagnosis Systems (DDS)\n",
    "\n",
    "![confusion matrix](images/confmatrix1.bmp)\n",
    "![conf1](images/conf2.PNG)\n",
    "\n",
    "**Accuracy:**\n",
    "* Overall, how often is it correct?\n",
    "* (TP + TN) / total = 150/165 = 0.91\n",
    "\n",
    "**Misclassification Rate (Error Rate):** \n",
    "* Overall, how often is it wrong?\n",
    "* (FP + FN) / total = 15/165 = 0.09"
   ]
  },
  {
   "cell_type": "markdown",
   "metadata": {},
   "source": [
    "![miscla](images/misclAs.PNG)"
   ]
  },
  {
   "cell_type": "code",
   "execution_count": null,
   "metadata": {
    "collapsed": true
   },
   "outputs": [],
   "source": []
  }
 ],
 "metadata": {
  "kernelspec": {
   "display_name": "R",
   "language": "R",
   "name": "ir"
  },
  "language_info": {
   "codemirror_mode": "r",
   "file_extension": ".r",
   "mimetype": "text/x-r-source",
   "name": "R",
   "pygments_lexer": "r",
   "version": "3.3.2"
  }
 },
 "nbformat": 4,
 "nbformat_minor": 2
}
