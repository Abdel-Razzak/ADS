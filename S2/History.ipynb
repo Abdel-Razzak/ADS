{
 "cells": [
  {
   "cell_type": "markdown",
   "metadata": {},
   "source": [
    "## History \n",
    "This all started in the 1800s with a guy named Francis Galton. Galton was studyingthe relationship between parents and their children. In particular, he investigated the relationship between the heights of fathers and their sons.\n",
    "\n",
    "![Francis Galton](https://upload.wikimedia.org/wikipedia/commons/e/ec/Francis_Galton_1850s.jpg)\n",
    "\n",
    "What he discovered was that a man's son tended to be roughly as tall as his father. However Galton's breakthrough was that the\n",
    "son's height tended to be closer to the overall average height of all people.\n",
    "\n",
    "Example\n",
    "Let's take micheal jordan as an example. jordan is really tall: (2 meters).\n",
    "If jordan has a son, chances are he'll be pretty tall too. However, jordan is such an anomaly that there is also a very good chance that his son will be not be as tall as jordan.\n",
    "\n",
    "![jordan man](https://s-media-cache-ak0.pinimg.com/736x/c7/2e/66/c72e66c0a8133f7e17d160f0793d43f3.jpg)\n",
    "\n",
    "Turns out this is the case: jordan's son is pretty tall (1.85 m), but not nearly as tall as his\n",
    "dad. Galton called this phenomenon regression, as in \"A father's son's height tends to regress (or drift towards) the mean (average) height.\""
   ]
  },
  {
   "cell_type": "markdown",
   "metadata": {},
   "source": [
    "Our goal with linear regression is to minimize the vertical distance between all the data points and our line. \n",
    "\n",
    "![linreg](images/linreg.PNG)\n",
    "\n",
    "So in determining the best line, we are attempting to minimize the distance between all the points and their distance to our line. There are lots of different ways to minimize this, (sum of squared errors, sum of absolute errors, etc), but all these methods have a general goal of minimizing this distance.\n",
    "\n",
    "![LSE](images/lse.PNG)\n",
    "\n",
    "**We’ll use the Least Squares Method, which is fitted by minimizing the sum of squares of the residuals. The residuals for an\n",
    "observation is the difference between the observation (the y-value) and the fitted line.**"
   ]
  },
  {
   "cell_type": "code",
   "execution_count": null,
   "metadata": {
    "collapsed": true
   },
   "outputs": [],
   "source": []
  }
 ],
 "metadata": {
  "kernelspec": {
   "display_name": "R",
   "language": "R",
   "name": "ir"
  },
  "language_info": {
   "codemirror_mode": "r",
   "file_extension": ".r",
   "mimetype": "text/x-r-source",
   "name": "R",
   "pygments_lexer": "r",
   "version": "3.3.2"
  }
 },
 "nbformat": 4,
 "nbformat_minor": 2
}
